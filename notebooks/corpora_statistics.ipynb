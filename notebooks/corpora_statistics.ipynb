{
 "cells": [
  {
   "cell_type": "code",
   "execution_count": 1,
   "metadata": {
    "collapsed": true
   },
   "outputs": [
    {
     "name": "stderr",
     "output_type": "stream",
     "text": [
      "2023-05-24 12:50:23.695108: W tensorflow/stream_executor/platform/default/dso_loader.cc:64] Could not load dynamic library 'libcudart.so.11.0'; dlerror: libcudart.so.11.0: cannot open shared object file: No such file or directory\n",
      "2023-05-24 12:50:23.695144: I tensorflow/stream_executor/cuda/cudart_stub.cc:29] Ignore above cudart dlerror if you do not have a GPU set up on your machine.\n"
     ]
    }
   ],
   "source": [
    "from functools import partialmethod\n",
    "from pathlib import Path\n",
    "from typing import Tuple\n",
    "\n",
    "from tqdm import tqdm\n",
    "\n",
    "from src.data.utils import read_dataset\n",
    "from src.data.preprocess import documents_to_sentence_annotation\n",
    "\n",
    "tqdm.__init__ = partialmethod(tqdm.__init__, disable=True)  # disable progress bar\n",
    "\n",
    "root_path = Path().resolve().parent"
   ]
  },
  {
   "cell_type": "code",
   "execution_count": 2,
   "metadata": {
    "collapsed": false
   },
   "outputs": [],
   "source": [
    "corpora = {\n",
    "    \"english\": [\n",
    "        \"tempeval_3\",\n",
    "        \"tcr\",\n",
    "        \"ancient_time_english\",\n",
    "        \"wikiwars\",\n",
    "        \"ph_english\"\n",
    "    ],\n",
    "    \"portuguese\": [\n",
    "        \"timebankpt\",\n",
    "        \"ph_portuguese\"\n",
    "    ],\n",
    "    \"spanish\": [\n",
    "        \"spanish_timebank\",\n",
    "        \"traint3\",\n",
    "        \"ancient_time_spanish\",\n",
    "        \"ph_spanish\"\n",
    "    ],\n",
    "    \"italian\": [\n",
    "        \"narrative_container\",\n",
    "        \"ancient_time_italian\",\n",
    "        \"ph_italian\"\n",
    "    ],\n",
    "    \"french\": [\n",
    "        \"fr_timebank\",\n",
    "        \"ancient_time_french\",\n",
    "        \"ph_french\"\n",
    "    ],\n",
    "    \"german\": [\n",
    "        \"krauts\",\n",
    "        \"wikiwars_de\",\n",
    "        \"ancient_time_german\",\n",
    "        \"ph_german\"\n",
    "    ],\n",
    "}"
   ]
  },
  {
   "cell_type": "code",
   "execution_count": 3,
   "metadata": {
    "collapsed": false
   },
   "outputs": [],
   "source": [
    "def get_sentences_timexs_count(documents) -> Tuple[int, int]:\n",
    "    n_sents, n_tmxs = 0, 0\n",
    "    annotated_sentences = documents_to_sentence_annotation(documents)\n",
    "    for _, tmx in annotated_sentences:\n",
    "        if tmx:\n",
    "            n_sents += 1\n",
    "            n_tmxs += len(tmx)\n",
    "    return n_sents, n_tmxs"
   ]
  },
  {
   "cell_type": "code",
   "execution_count": 4,
   "metadata": {
    "collapsed": false
   },
   "outputs": [
    {
     "name": "stdout",
     "output_type": "stream",
     "text": [
      "                               & Train    &          &          & Validation &          &          & Test     &          &         \n",
      "                               & #Docs    & #Sents   & #Timexs  & #Docs    & #Sents   & #Timexs  & #Docs    & #Sents   & #Timexs \n",
      "tempeval_3                     & 204      & 1183     & 1472     & 51       & 273      & 338      & 20       & 106      & 138     \n",
      "tcr                            & 16       & 105      & 126      & 4        & 21       & 29       & 5        & 50       & 62      \n",
      "ancient_time_english           & 3        & 94       & 142      & 1        & 92       & 125      & 1        & 31       & 39      \n",
      "wikiwars                       & 16       & 1594     & 2166     & 2        & 90       & 117      & 4        & 265      & 357     \n",
      "ph_english                     & 17743    & 128812   & 165385   & 1971     & 14488    & 18469    & 4928     & 35945    & 46307   \n",
      "timebankpt                     & 130      & 733      & 911      & 32       & 141      & 171      & 20       & 117      & 145     \n",
      "ph_portuguese                  & 17491    & 39489    & 63135    & 1943     & 4487     & 6977     & 4859     & 10918    & 17404   \n",
      "spanish_timebank               & 140      & 637      & 939      & 35       & 116      & 155      & 35       & 145      & 198     \n",
      "traint3                        & 126      & 556      & 821      & 14       & 46       & 58       & 35       & 151      & 215     \n",
      "ancient_time_spanish           & 3        & 106      & 152      & 1        & 25       & 39       & 1        & 15       & 21      \n",
      "ph_spanish                     & 23952    & 119286   & 226393   & 2661     & 13267    & 25242    & 6653     & 33360    & 63110   \n",
      "narrative_container            & 45       & 189      & 299      & 5        & 35       & 42       & 13       & 56       & 98      \n",
      "ancient_time_italian           & 3        & 125      & 184      & 1        & 31       & 37       & 1        & 6        & 8       \n",
      "ph_italian                     & 6926     & 25885    & 35351    & 769      & 2854     & 3897     & 1924     & 7361     & 9956    \n",
      "fr_timebank                    & 77       & 226      & 329      & 9        & 19       & 32       & 22       & 42       & 64      \n",
      "ancient_time_french            & 3        & 107      & 144      & 1        & 109      & 129      & 1        & 9        & 12      \n",
      "ph_french                      & 19551    & 26339    & 40415    & 2172     & 2981     & 4572     & 5431     & 7308     & 11290   \n",
      "krauts                         & 139      & 621      & 774      & 15       & 75       & 98       & 38       & 173      & 218     \n",
      "wikiwars_de                    & 16       & 1433     & 1721     & 2        & 87       & 98       & 4        & 360      & 398     \n",
      "ancient_time_german            & 3        & 86       & 101      & 1        & 32       & 35       & 1        & 43       & 55      \n",
      "ph_german                      & 13748    & 103234   & 126121   & 1528     & 11324    & 13828    & 3819     & 28759    & 34999   \n"
     ]
    }
   ],
   "source": [
    "header = [\" \", \"Train\", \" \", \" \", \"Validation\", \" \", \" \", \"Test\", \" \", \" \"]\n",
    "print(f\"{header[0]:<30} & {header[1]:<8} & {header[2]:<8} & {header[3]:<8} & {header[4]:<8} & {header[5]:<8} & {header[6]:<8} & {header[7]:<8} & {header[8]:<8} & {header[9]:<8}\")\n",
    "header = [\" \", \"#Docs\", \"#Sents\", \"#Timexs\", \"#Docs\", \"#Sents\", \"#Timexs\", \"#Docs\", \"#Sents\", \"#Timexs\"]\n",
    "print(f\"{header[0]:<30} & {header[1]:<8} & {header[2]:<8} & {header[3]:<8} & {header[4]:<8} & {header[5]:<8} & {header[6]:<8} & {header[7]:<8} & {header[8]:<8} & {header[9]:<8}\")\n",
    "\n",
    "for language in corpora:\n",
    "    for corpus in corpora[language]:\n",
    "        train_docs, val_docs, test_docs = read_dataset(corpus, root_path / \"data\" / \"raw\")\n",
    "\n",
    "        n_train_docs = len(train_docs)\n",
    "        n_train_sents, n_train_tmxs = get_sentences_timexs_count(train_docs)\n",
    "\n",
    "        n_val_docs = len(val_docs)\n",
    "        n_val_sents, n_val_tmxs = get_sentences_timexs_count(val_docs)\n",
    "\n",
    "        n_test_docs = len(test_docs)\n",
    "        n_test_sents, n_test_tmxs = get_sentences_timexs_count(test_docs)\n",
    "\n",
    "        print(f\"{corpus:<30} & \"\n",
    "              f\"{n_train_docs:<8} & {n_train_sents:<8} & {n_train_tmxs:<8} & \"\n",
    "              f\"{n_val_docs:<8} & {n_val_sents:<8} & {n_val_tmxs:<8} & \"\n",
    "              f\"{n_test_docs:<8} & {n_test_sents:<8} & {n_test_tmxs:<8}\")"
   ]
  }
 ],
 "metadata": {
  "kernelspec": {
   "display_name": "Python 3",
   "language": "python",
   "name": "python3"
  },
  "language_info": {
   "codemirror_mode": {
    "name": "ipython",
    "version": 3
   },
   "file_extension": ".py",
   "mimetype": "text/x-python",
   "name": "python",
   "nbconvert_exporter": "python",
   "pygments_lexer": "ipython3",
   "version": "3.8.10"
  }
 },
 "nbformat": 4,
 "nbformat_minor": 0
}
