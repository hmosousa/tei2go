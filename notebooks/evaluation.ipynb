{
 "cells": [
  {
   "cell_type": "code",
   "execution_count": 1,
   "metadata": {
    "collapsed": false
   },
   "outputs": [],
   "source": [
    "import json\n",
    "from pathlib import Path\n",
    "\n",
    "root_path = Path(\"..\")\n",
    "result_path = root_path / \"result\""
   ]
  },
  {
   "cell_type": "code",
   "execution_count": 2,
   "metadata": {
    "collapsed": false
   },
   "outputs": [],
   "source": [
    "corpora = {\n",
    "    \"english\": [\n",
    "        \"tempeval_3\",\n",
    "        \"tcr\",\n",
    "        \"ancient_time_english\",\n",
    "        \"wikiwars\",\n",
    "        \"ph_english\"\n",
    "    ],\n",
    "    \"portuguese\": [\n",
    "        \"timebankpt\",\n",
    "        \"ph_portuguese\"\n",
    "    ],\n",
    "    \"spanish\": [\n",
    "        \"spanish_timebank\",\n",
    "        \"traint3\",\n",
    "        \"ancient_time_spanish\",\n",
    "        \"ph_spanish\"\n",
    "    ],\n",
    "    \"italian\": [\n",
    "        \"narrative_container\",\n",
    "        \"ancient_time_italian\",\n",
    "        \"ph_italian\"\n",
    "    ],\n",
    "    \"french\": [\n",
    "        \"fr_timebank\",\n",
    "        \"ancient_time_french\",\n",
    "        \"ph_french\"\n",
    "    ],\n",
    "    \"german\": [\n",
    "        \"krauts\",\n",
    "        \"wikiwars_de\",\n",
    "        \"ancient_time_german\",\n",
    "        \"ph_german\"\n",
    "    ],\n",
    "}\n",
    "\n",
    "models = [\n",
    "    \"HeidelTime\",\n",
    "    \"Spacy NER Base\",\n",
    "    \"Spacy NER Compilation\",\n",
    "    \"Spacy NER Weak Label\",\n",
    "    \"Spark NER Base\",\n",
    "    \"Spark NER Compilation\",\n",
    "    \"Spark NER Weak Label\",\n",
    "]"
   ]
  },
  {
   "cell_type": "code",
   "execution_count": 3,
   "metadata": {
    "collapsed": false
   },
   "outputs": [],
   "source": [
    "metrics = {}\n",
    "for file in result_path.glob(\"*.json\"):\n",
    "    language = file.stem\n",
    "    with open(file) as fin:\n",
    "        content = json.load(fin)\n",
    "        metrics[language] = content"
   ]
  },
  {
   "cell_type": "code",
   "execution_count": 4,
   "metadata": {
    "collapsed": false
   },
   "outputs": [
    {
     "name": "stdout",
     "output_type": "stream",
     "text": [
      "\t HeidelTime\tSpacy NER Base\tSpacy NER Compilation\tSpacy NER Weak Label\tSpark NER Base\tSpark NER Compilation\tSpark NER Weak Label\n",
      "tempeval_3\t81.8\t90.7\t49.3\t74.6\t87.7\t0.3\t81.2\t87.8\t0.4\t82.4\t90.6\t0.4\t74.9\t87.5\t14.9\t-\t-\t-\t-\t-\t-\n",
      "tcr\t74.0\t86.6\t14.0\t73.0\t87.3\t0.1\t68.6\t86.3\t0.2\t77.2\t89.8\t0.2\t61.5\t79.4\t6.1\t-\t-\t-\t-\t-\t-\n",
      "ancient_time_english\t89.2\t91.9\t3.3\t11.8\t35.3\t0.1\t68.4\t84.2\t0.1\t66.7\t74.2\t0.1\t35.5\t53.3\t3.4\t-\t-\t-\t-\t-\t-\n",
      "wikiwars\t83.6\t91.4\t19.0\t50.7\t78.0\t0.6\t90.8\t96.7\t0.8\t84.7\t91.9\t0.8\t50.1\t74.3\t28.0\t-\t-\t-\t-\t-\t-\n",
      "ph_english\t-\t-\t-\t69.5\t82.6\t85.3\t71.8\t81.3\t112.9\t98.7\t99.1\t109.2\t57.6\t70.1\t4861.2\t-\t-\t-\t-\t-\t-\n",
      "timebankpt\t72.1\t81.8\t54.2\t83.6\t86.5\t0.7\t-\t-\t-\t77.4\t82.0\t0.4\t80.8\t89.0\t13.4\t-\t-\t-\t-\t-\t-\n",
      "ph_portuguese\t-\t-\t-\t52.5\t72.5\t78.3\t-\t-\t-\t97.8\t98.5\t41.1\t50.6\t72.7\t1745.3\t-\t-\t-\t-\t-\t-\n",
      "spanish_timebank\t85.6\t89.1\t74.0\t76.6\t87.1\t0.5\t69.3\t85.6\t0.7\t85.6\t89.1\t0.4\t81.6\t90.4\t14.4\t-\t-\t-\t-\t-\t-\n",
      "traint3\t82.5\t88.7\t76.9\t90.5\t94.3\t0.6\t75.0\t94.0\t0.8\t84.0\t90.5\t0.6\t89.0\t93.7\t17.0\t-\t-\t-\t-\t-\t-\n",
      "ancient_time_spanish\t78.0\t92.7\t2.6\t15.8\t75.7\t0.1\t51.4\t76.5\t0.1\t38.9\t75.7\t0.0\t15.8\t75.7\t1.5\t-\t-\t-\t-\t-\t-\n",
      "ph_spanish\t-\t-\t-\t66.8\t82.6\t146.6\t60.7\t80.4\t248.3\t97.0\t98.3\t127.5\t68.4\t82.6\t8227.7\t-\t-\t-\t-\t-\t-\n",
      "narrative_container\t81.4\t93.9\t36.0\t52.9\t75.0\t0.4\t79.8\t89.7\t0.2\t85.6\t96.4\t0.2\t63.6\t83.3\t5.3\t-\t-\t-\t-\t-\t-\n",
      "ancient_time_italian\t36.4\t54.5\t3.2\t36.4\t54.5\t0.1\t82.4\t82.4\t0.0\t46.2\t61.5\t0.0\t28.4\t49.6\t5.9\t-\t-\t-\t-\t-\t-\n",
      "ph_italian\t-\t-\t-\t52.3\t66.9\t43.3\t52.1\t76.3\t21.6\t98.1\t98.7\t21.5\t52.3\t72.2\t630.4\t-\t-\t-\t-\t-\t-\n",
      "fr_timebank\t87.1\t93.5\t48.4\t84.4\t90.6\t0.1\t82.3\t92.7\t0.2\t82.2\t89.9\t0.2\t78.7\t89.3\t4.8\t-\t-\t-\t-\t-\t-\n",
      "ancient_time_french\t87.0\t95.7\t2.5\t0.0\t22.2\t0.0\t88.0\t96.0\t0.0\t44.4\t66.7\t0.0\t10.5\t31.6\t1.0\t-\t-\t-\t-\t-\t-\n",
      "ph_french\t-\t-\t-\t68.9\t79.6\t16.1\t71.3\t85.2\t19.1\t98.2\t98.8\t19.1\t70.6\t82.1\t783.0\t-\t-\t-\t-\t-\t-\n",
      "krauts\t77.7\t82.7\t91.2\t75.9\t82.2\t0.6\t67.1\t79.2\t0.5\t70.5\t82.9\t0.7\t60.6\t77.8\t22.1\t-\t-\t-\t-\t-\t-\n",
      "wikiwars_de\t87.3\t91.9\t17.1\t50.4\t74.0\t0.7\t61.5\t87.7\t0.6\t67.6\t93.6\t0.8\t49.3\t86.5\t27.6\t-\t-\t-\t-\t-\t-\n",
      "ancient_time_german\t75.3\t79.6\t3.1\t33.3\t64.4\t0.1\t73.6\t83.9\t0.1\t72.9\t83.3\t0.1\t30.0\t64.0\t4.6\t-\t-\t-\t-\t-\t-\n",
      "ph_german\t-\t-\t-\t59.5\t70.2\t63.2\t60.2\t74.3\t57.5\t91.8\t96.7\t76.6\t54.7\t69.3\t3297.5\t-\t-\t-\t-\t-\t-\n"
     ]
    }
   ],
   "source": [
    "header = \"\\t\".join(models)\n",
    "print(\"\\t\", header)\n",
    "\n",
    "for language in corpora:\n",
    "    for corpus in corpora[language]:\n",
    "        result = metrics[language][corpus]\n",
    "        line = []\n",
    "        for model in models:\n",
    "            if model in result:\n",
    "                strict_f1 = round(result[model][\"strict\"][\"micro\"][\"f1\"] * 100, 1)\n",
    "                relaxed_f1 = round(result[model][\"relaxed\"][\"micro\"][\"f1\"] * 100, 1)\n",
    "                time = round(result[model][\"time\"], 1)\n",
    "            else:\n",
    "                strict_f1, relaxed_f1, time = \"-\", \"-\", \"-\"\n",
    "\n",
    "            line += [f\"{strict_f1}\\t{relaxed_f1}\\t{time}\"]\n",
    "        print(\"\\t\".join([corpus] + line))"
   ]
  }
 ],
 "metadata": {
  "kernelspec": {
   "display_name": "Python 3 (ipykernel)",
   "language": "python",
   "name": "python3"
  },
  "language_info": {
   "codemirror_mode": {
    "name": "ipython",
    "version": 3
   },
   "file_extension": ".py",
   "mimetype": "text/x-python",
   "name": "python",
   "nbconvert_exporter": "python",
   "pygments_lexer": "ipython3",
   "version": "3.8.10"
  }
 },
 "nbformat": 4,
 "nbformat_minor": 5
}
