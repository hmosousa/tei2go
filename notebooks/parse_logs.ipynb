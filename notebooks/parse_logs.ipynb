{
 "cells": [
  {
   "cell_type": "code",
   "execution_count": 1,
   "metadata": {
    "collapsed": true
   },
   "outputs": [
    {
     "name": "stderr",
     "output_type": "stream",
     "text": [
      "2022-10-16 10:49:25.637555: W tensorflow/stream_executor/platform/default/dso_loader.cc:64] Could not load dynamic library 'libcudart.so.11.0'; dlerror: libcudart.so.11.0: cannot open shared object file: No such file or directory\n",
      "2022-10-16 10:49:25.637576: I tensorflow/stream_executor/cuda/cudart_stub.cc:29] Ignore above cudart dlerror if you do not have a GPU set up on your machine.\n"
     ]
    }
   ],
   "source": [
    "from pathlib import Path\n",
    "\n",
    "from src.utils import parse_logs_file"
   ]
  },
  {
   "cell_type": "code",
   "execution_count": 2,
   "outputs": [],
   "source": [
    "path = Path(\"../logs/compilation/\")\n",
    "\n",
    "logs = \"\"\n",
    "for logfile in path.glob(\"*.log\"):\n",
    "    with open(str(logfile)) as fin:\n",
    "        logs += fin.read()\n",
    "\n",
    "results = parse_logs_file(logs)"
   ],
   "metadata": {
    "collapsed": false
   }
  },
  {
   "cell_type": "code",
   "execution_count": 3,
   "outputs": [],
   "source": [
    "languages = [\"en\",\"pt\",\"fr\",\"it\",\"es\",\"de\"]\n",
    "models = [\"spacy\", \"sparknlp\"]\n",
    "\n",
    "pivot_results = {language: {model: [] for model in models} for language in languages}\n",
    "for result in results:\n",
    "    pivot_results[result[\"language\"]][result[\"model\"]].append({\n",
    "        \"model_id\": result[\"model_id\"],\n",
    "        \"best_f1\": result[\"best_f1\"],\n",
    "    })"
   ],
   "metadata": {
    "collapsed": false
   }
  },
  {
   "cell_type": "code",
   "execution_count": 4,
   "outputs": [],
   "source": [
    "best_results = {}\n",
    "for language in languages:\n",
    "    for model in models:\n",
    "        best_f1 = 0.0\n",
    "        best_model_id = \"\"\n",
    "        for result in pivot_results[language][model]:\n",
    "            if float(result[\"best_f1\"]) > best_f1:\n",
    "                model_id = result[\"model_id\"]\n",
    "                best_f1 = float(result[\"best_f1\"])\n",
    "        best_results[(language, model)] = (model_id, best_f1)\n"
   ],
   "metadata": {
    "collapsed": false
   }
  },
  {
   "cell_type": "code",
   "execution_count": 5,
   "outputs": [
    {
     "name": "stdout",
     "output_type": "stream",
     "text": [
      "spacy\n",
      "en\t20221002211910\t0.8559\n",
      "pt\t20221003000901\t0.0\n",
      "fr\t20221002213058\t0.9\n",
      "it\t20221002213719\t0.6776\n",
      "es\t20221014163227\t0.5819\n",
      "de\t20221014191504\t0.7059\n",
      "sparknlp\n",
      "en\t20221003000901\t0.9153\n",
      "pt\t20221003000901\t0.0\n",
      "fr\t20221003035233\t0.9111\n",
      "it\t20221003064929\t0.7718\n",
      "es\t20221003090213\t0.8344\n",
      "de\t20221003223625\t0.9222\n"
     ]
    }
   ],
   "source": [
    "for model in models:\n",
    "    print(model)\n",
    "    for language in languages:\n",
    "        model_id, f1 = best_results[(language, model)]\n",
    "        print(f\"{language}\\t{model_id}\\t{f1}\")"
   ],
   "metadata": {
    "collapsed": false
   }
  }
 ],
 "metadata": {
  "kernelspec": {
   "display_name": "Python 3",
   "language": "python",
   "name": "python3"
  },
  "language_info": {
   "codemirror_mode": {
    "name": "ipython",
    "version": 2
   },
   "file_extension": ".py",
   "mimetype": "text/x-python",
   "name": "python",
   "nbconvert_exporter": "python",
   "pygments_lexer": "ipython2",
   "version": "2.7.6"
  }
 },
 "nbformat": 4,
 "nbformat_minor": 0
}
